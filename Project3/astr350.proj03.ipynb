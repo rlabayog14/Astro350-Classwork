{
 "cells": [
  {
   "cell_type": "markdown",
   "metadata": {},
   "source": [
    "<h1 style=\"text-align:center;text-decoration: underline\">Astronomy 350 Midterm Project #3</h1>"
   ]
  },
  {
   "cell_type": "markdown",
   "metadata": {},
   "source": [
    "Prof. Quimby <br>\n",
    "Spring 2025 <br>\n",
    "**Due March 28 at 5pm**"
   ]
  },
  {
   "cell_type": "markdown",
   "metadata": {},
   "source": [
    "**Student Name:** Raynell Labayog"
   ]
  },
  {
   "cell_type": "markdown",
   "metadata": {},
   "source": [
    "## Background"
   ]
  },
  {
   "cell_type": "markdown",
   "metadata": {},
   "source": [
    "It is a basic property of Euclidean geometry that the length of one side of a triangle can be determined from the length of another side and its two adjacent angles. This principle has been used since at least the age of Pythagoras to measure large distances when direct measurement is impractical. Leveraging the large baseline provided by the Earth's orbit around the Sun and the precise angular measurements possible with the aid of telescopes, this same geometric principle can be used to measure the distances to some of the nearest stars. \n",
    "\n",
    "As the Earth orbits the Sun, the apparent coordinates of a nearby star will change with respect to more distant, background sources. If we can accurately measure this parallax angle then we can directly measure the distance to such nearby stars in units of the average Earth-Sun distance."
   ]
  },
  {
   "cell_type": "markdown",
   "metadata": {},
   "source": [
    "## Assignment"
   ]
  },
  {
   "cell_type": "markdown",
   "metadata": {},
   "source": [
    "Measure the distance (in parsec) to the high proper motion star from your midterm project #1 (see the list of targets below), then use $\\LaTeX$ to create a journal-style paper on your work."
   ]
  },
  {
   "cell_type": "markdown",
   "metadata": {},
   "source": [
    "|Star Name                 | R.A.      | Dec.       | pmRA     | pmDec    |\n",
    "| ---                      | ---       | ---        | ---      | ---      |\n",
    "|EGGR372                   | 267.03330 |  +70.87664 | -1266.42 | +1108.87 |\n",
    "|LHS1363                   |  33.55234 |   -3.96211 |  +509.30 |  -156.27 |\n",
    "|LHS252                    | 130.33387 |  +59.49735 |  -260.42 | -1279.61 |\n",
    "|GJ1187                    | 224.47388 |  +56.65680 |  +280.18 |  -646.68 |\n",
    "|LHS546                    | 353.79359 |   -2.38906 |  +781.67 |  -841.42 |\n",
    "|2MASSJ00113182+5908400    |   2.88260 |  +59.14446 |  -905.70 | -1166.81 |\n",
    "|TRAPPIST-1                | 346.62237 |   -5.04140 |  +930.88 |  -479.40 |\n",
    "|EGGR453                   | 343.47244 |   -6.78180 | +2485.85 |  -681.21 |"
   ]
  },
  {
   "cell_type": "markdown",
   "metadata": {
    "nbpresent": {
     "id": "51c73370-0c78-4f69-a731-fa0ed0b6440c"
    }
   },
   "source": [
    "## Resources:\n",
    "\n",
    "Parallax:\n",
    "* [notes on van Altena's parallax notes](~/tutorials/parallax.notes.ipynb) <-- **Must read!**\n",
    "  * van Altena's original notes: ftp://ftp.astro.yale.edu/pub/workshop/presentations/BillVanAltena_Parallaxes.pdf\n",
    "  * van Altena's book on [Astrometry for Astrophysics](https://ebookcentral.proquest.com/lib/sdsu/reader.action?docID=1042413)\n",
    "* [Gaia video explaining parallax](https://youtu.be/m1ZNSPrH0q8)\n",
    "* [CTIOPI paper](https://ui.adsabs.harvard.edu/abs/2005AJ....129.1954J/abstract) on measuring parallaxes of nearby stars\n",
    "    \n",
    "Palomar Transient Factory\n",
    "  * Explore the Palomar Transient Factory [(PTF) data archive](http://irsa.ipac.caltech.edu/applications/ptf/)\n",
    "  * Paper [describing PTF](https://ui.adsabs.harvard.edu/#abs/2009PASP..121.1395L/abstract) \n",
    "    \n",
    "Least-Squares fitting\n",
    "  * Carl Heiles' [notes on least-squares fitting](http://www.ugastro.berkeley.edu/radio/2015/handout_links/lsfit_2008.pdf)\n",
    "  * Application of least-squares fitting tutorial ([notebook](../tutorials/least-squares.application.ipynb), [video](http://video.sdsu.edu/nas/capture/2019/rquimbysdsu.edu/least-squares.application/least-squares.application_-_20190314_100559_6.html))\n",
    "  \n",
    "$\\LaTeX$\n",
    " - overleaf.com [$\\LaTeX$ documentation and tutorials](https://www.overleaf.com/learn/latex/Main_Page)\n",
    " - Information on the [AASTeX package](http://journals.aas.org/authors/aastex.html)\n",
    "   - AASTeX paper template [available on Overleaf.com](https://www.overleaf.com/latex/templates/aastex-template-for-submissions-to-aas-journals-apj-aj-apjs-apjl-psj-rnaas/vwyggrqvhcgz) <-- **Must use!**"
   ]
  },
  {
   "cell_type": "code",
   "execution_count": 1,
   "metadata": {},
   "outputs": [],
   "source": [
    "# some packages and functions you might need\n",
    "from astropy.coordinates import get_sun # <-- make sure you know what this is for!\n",
    "import numpy as np\n",
    "from astropy.time import Time\n",
    "from astropy.coordinates import SkyCoord\n",
    "import astropy.units as u\n",
    "import pickle\n",
    "\n",
    "%matplotlib inline\n",
    "import matplotlib.pyplot as plt"
   ]
  },
  {
   "cell_type": "markdown",
   "metadata": {},
   "source": [
    "## Process"
   ]
  },
  {
   "cell_type": "markdown",
   "metadata": {},
   "source": [
    "### Step 0"
   ]
  },
  {
   "cell_type": "markdown",
   "metadata": {},
   "source": [
    "Review your work on midterm project #1."
   ]
  },
  {
   "cell_type": "markdown",
   "metadata": {},
   "source": [
    "### Step 1"
   ]
  },
  {
   "cell_type": "markdown",
   "metadata": {},
   "source": [
    "Included in the assignment repo are data files compiled from [Palomar Transient Factory](http://irsa.ipac.caltech.edu/applications/ptf/)  observations of each target that give the Julian date of the observation and the observed R.A. and Dec. of the target (e.g., see the `EGGR372.dat` file). Recall you were asked to gather and plot these values in midterm project #1. Finish the code template below to load the data and verify that you can plot the motion of your target across the celestial sphere (i.e. make a plot showing R.A. vs. Dec.)."
   ]
  },
  {
   "cell_type": "code",
   "execution_count": 2,
   "metadata": {},
   "outputs": [],
   "source": [
    "def load_astrometry(name):\n",
    "    \"\"\"\n",
    "    load and return the numpy structured array stored in a data file\n",
    "    \n",
    "    `name` is the name of the target and *part* of the filename\n",
    "    \"\"\"\n",
    "    \n",
    "    filename = name\n",
    "    return np.genfromtxt(filename, names='jd, ra, dec')"
   ]
  },
  {
   "cell_type": "code",
   "execution_count": 4,
   "metadata": {},
   "outputs": [
    {
     "data": {
      "text/plain": [
       "(75,)"
      ]
     },
     "execution_count": 4,
     "metadata": {},
     "output_type": "execute_result"
    }
   ],
   "source": [
    "# use the function above to load the data for a target\n",
    "name = 'EGGR453'\n",
    "names = 'EGGR453.dat'\n",
    "data = load_astrometry(names)\n",
    "\n",
    "# check the shape and column names of data\n",
    "data.shape"
   ]
  },
  {
   "cell_type": "markdown",
   "metadata": {},
   "source": [
    "<div class=\"alert alert-warning\" role=\"alert\">\n",
    "\n",
    "**EA:** You can (and should) construct `load_astrometry` to take just the name of the star, e.g. EGGR453, rather than the filename.\n",
    "\n",
    "</div>"
   ]
  },
  {
   "cell_type": "code",
   "execution_count": 5,
   "metadata": {},
   "outputs": [
    {
     "data": {
      "image/png": "[encoded data removed]",
      "text/plain": [
       "<Figure size 800x800 with 1 Axes>"
      ]
     },
     "metadata": {},
     "output_type": "display_data"
    }
   ],
   "source": [
    "# plot the Dec. vs. R.A.\n",
    "plt.figure(figsize=(8,8))\n",
    "plt.scatter(data['ra'], data['dec'], marker='o',label = 'Dec vs R.A.')\n",
    "plt.xlabel(r'Dec $deg^\\circ$')\n",
    "plt.ylabel(r'Right Acsension $deg^\\circ$')\n",
    "plt.title('Raw Declination vs Right Ascension')\n",
    "plt.grid()\n",
    "plt.legend()\n",
    "plt.show()\n",
    "#plt.savefig('Raw_DecvsRA.pdf')"
   ]
  },
  {
   "cell_type": "markdown",
   "metadata": {},
   "source": [
    "<div class=\"alert alert-warning\" role=\"alert\">\n",
    "\n",
    "**EA:** Consider having your RA increase from right to left as is often done.\n",
    "\n",
    "</div>"
   ]
  },
  {
   "cell_type": "markdown",
   "metadata": {},
   "source": [
    "### Step 2"
   ]
  },
  {
   "cell_type": "markdown",
   "metadata": {},
   "source": [
    "Make plots showing the residual motion in R.A. and Dec. after proper motion has been removed. To do this, you will need to use the R.A. and Dec. from the table above (which are valid for the epoch J2000, which is noon on 2000 January 1 UT) as well as the supplied proper motion terms to predict R.A. and Dec. values at each of the observed epochs. Subtract these predicted values from the observed values to get the residuals, then plot these against time. \n",
    "\n",
    "For your benefit, the assignment repo also has a `targets.dat` file that holds the position and proper motion data for each target. These values come from [Gaia DR3](https://ui.adsabs.harvard.edu/abs/2022arXiv220800211G/abstract). The supplied `get_tinfo` function below will create a dictionary with these quantities given any valid target name."
   ]
  },
  {
   "cell_type": "code",
   "execution_count": 6,
   "metadata": {},
   "outputs": [
    {
     "data": {
      "text/plain": [
       "array([('EGGR372', 267.0333 , 70.87664, -1266.42,  1108.87),\n",
       "       ('LHS1363',  33.55234, -3.96211,   509.3 ,  -156.27),\n",
       "       ('LHS252', 130.33387, 59.49735,  -260.42, -1279.61),\n",
       "       ('GJ1187', 224.47388, 56.6568 ,   280.18,  -646.68),\n",
       "       ('LHS546', 353.79359, -2.38906,   781.67,  -841.42),\n",
       "       ('2MASSJ00113182+5908400',   2.8826 , 59.14446,  -905.7 , -1166.81),\n",
       "       ('TRAPPIST-1', 346.62237, -5.0414 ,   930.88,  -479.4 ),\n",
       "       ('EGGR453', 343.47244, -6.7818 ,  2485.85,  -681.21)],\n",
       "      dtype=[('name', '<U32'), ('ra', '<f8'), ('dec', '<f8'), ('pmra', '<f8'), ('pmdec', '<f8')])"
      ]
     },
     "execution_count": 6,
     "metadata": {},
     "output_type": "execute_result"
    }
   ],
   "source": [
    " dtype = [('name', 'U32'), ('ra', float), ('dec', float), ('pmra', float), ('pmdec', float)]\n",
    "tinfos = np.genfromtxt('targets.dat', dtype=dtype)\n",
    "tinfos"
   ]
  },
  {
   "cell_type": "code",
   "execution_count": 7,
   "metadata": {},
   "outputs": [],
   "source": [
    "def get_tinfo(name):\n",
    "    \"\"\"\n",
    "    Return a dictionary with position and proper motion data for the given target\n",
    "    \n",
    "    `name` is the target name (string)\n",
    "    \"\"\"\n",
    "    \n",
    "    # load the target data from the supplied target.dat file\n",
    "    dtype = [('name', 'U32'), ('ra', float), ('dec', float), ('pmra', float), ('pmdec', float)]\n",
    "    tinfos = np.genfromtxt('targets.dat', dtype=dtype)\n",
    "\n",
    "    # locate the row for the requested target\n",
    "    w = tinfos['name'] == name\n",
    "    if w.sum() == 0:\n",
    "        print('Error using get_tinfo: cannot locate target', name, '... returning!')\n",
    "        return None\n",
    "    row = tinfos[w][0]\n",
    "\n",
    "    # create and return a dictionary with the target details\n",
    "    tinfo = {}\n",
    "    tinfo['name'] = name\n",
    "    tinfo['epoch'] = Time('J2000', format='jyear_str')\n",
    "    tinfo['ra'] = row['ra'] * u.deg\n",
    "    tinfo['dec'] = row['dec'] * u.deg\n",
    "    tinfo['pmra'] = row['pmra'] * u.mas / u.year\n",
    "    tinfo['pmdec'] = row['pmdec'] * u.mas / u.year\n",
    "    return tinfo    "
   ]
  },
  {
   "cell_type": "code",
   "execution_count": 8,
   "metadata": {},
   "outputs": [
    {
     "data": {
      "text/plain": [
       "{'name': 'EGGR453',\n",
       " 'epoch': <Time object: scale='tt' format='jyear_str' value=J2000.000>,\n",
       " 'ra': <Quantity 343.47244 deg>,\n",
       " 'dec': <Quantity -6.7818 deg>,\n",
       " 'pmra': <Quantity 2485.85 mas / yr>,\n",
       " 'pmdec': <Quantity -681.21 mas / yr>}"
      ]
     },
     "execution_count": 8,
     "metadata": {},
     "output_type": "execute_result"
    }
   ],
   "source": [
    "# try out the supplied `get_tinfo` function\n",
    "tinfo = get_tinfo(name)\n",
    "\n",
    "# see what data tinfo contains\n",
    "tinfo"
   ]
  },
  {
   "cell_type": "code",
   "execution_count": 9,
   "metadata": {},
   "outputs": [],
   "source": [
    "# you will find the function template below (from midterm project #1) to be helpful\n",
    "def get_target_pos(tinfo, epoch):\n",
    "    \"\"\"\n",
    "    return a SkyCoord with the *approximate* position of the target at the given epoch.\n",
    "    \n",
    "    `tinfo` is a user supplied dictionary with the RA, Dec of the target, \n",
    "            the epoch for these, and the proper motion in RA and Dec.\n",
    "          \n",
    "    `epoch` should be supplied as a astropy.time.Time object\n",
    "    \"\"\"\n",
    "    # determine the time difference between the requested epoch and the reference epoch\n",
    "    dt = (epoch - tinfo['epoch']) / 365.25\n",
    "\n",
    "    # convert proper motion from milliarcseconds/year to degrees/year\n",
    "    pmra_deg = tinfo['pmra']/(3600*1000)\n",
    "    pmdec_deg = tinfo['pmdec']/(3600*1000)\n",
    "    \n",
    "    # predict the target Dec. at the requested epoch\n",
    "    dec = tinfo['dec'] + (pmdec_deg * dt)\n",
    "    \n",
    "    # predict the target R.A. at the requested epoch (be careful!)\n",
    "    ra = tinfo['ra']+ (pmra_deg * dt) / np.cos(np.radians(tinfo['dec']))\n",
    "\n",
    "    # return a SkyCoord with the predicted position of the target at the given epoch\n",
    "    return SkyCoord(ra=ra, dec=dec, frame='icrs')"
   ]
  },
  {
   "cell_type": "markdown",
   "metadata": {},
   "source": [
    "<div class=\"alert alert-warning\" role=\"alert\">\n",
    "\n",
    "**EA:** When diving your `tinfo['pmra']` (a quantity with units) by 3600\\*1000, this does not actually convert the _units_ to deg/yr, but just changes the proper motion value. You would need to use `.to(u.deg / u.yr)`.\n",
    "\n",
    "</div>"
   ]
  },
  {
   "cell_type": "code",
   "execution_count": 10,
   "metadata": {},
   "outputs": [],
   "source": [
    "# use the get_target_pos function to get the predicted R.A., Dec. positions\n",
    "# for each observation epoch\n",
    "#get_target_pos(tinfo, data['jd'])\n",
    "jd_array = data['jd'] \n",
    "\n",
    "# Convert to astropy Time object\n",
    "epochs = Time(jd_array, format='jd')\n",
    "\n",
    "# Run get_target_pos for each epoch\n",
    "positions = [get_target_pos(tinfo, epoch) for epoch in epochs]\n",
    "\n",
    "# Extract RA and Dec into arrays\n",
    "ra_array = [pos.ra.deg for pos in positions]\n",
    "dec_array = [pos.dec.deg for pos in positions]\n"
   ]
  },
  {
   "cell_type": "markdown",
   "metadata": {},
   "source": [
    "<div class=\"alert alert-warning\" role=\"alert\">\n",
    "\n",
    "**EA:** When making `positions` and your ra and dec arrays, you do not have to use list comprehension, but simply doing `get_target_pos(tinfo, epochs)` and `pos.ra.deg` or `pos.dec.deg` works.\n",
    "\n",
    "</div>"
   ]
  },
  {
   "cell_type": "code",
   "execution_count": 11,
   "metadata": {},
   "outputs": [],
   "source": [
    "# calculate the angular difference (not coordinate difference!)\n",
    "# between the observed and predicted R.A. values in arcseconds\n",
    "dra = ((data['ra'] - ra_array) * np.cos(np.radians(dec_array))) * 3600  # arcsec"
   ]
  },
  {
   "cell_type": "code",
   "execution_count": 12,
   "metadata": {},
   "outputs": [
    {
     "data": {
      "image/png": "[encoded data removed]",
      "text/plain": [
       "<Figure size 800x800 with 1 Axes>"
      ]
     },
     "metadata": {},
     "output_type": "display_data"
    }
   ],
   "source": [
    "# plot the angular difference in R.A. (observed - predicted) vs. time\n",
    "plt.figure(figsize=(8,8))\n",
    "plt.scatter(data['jd'], dra, marker='o', label='RA Residual')\n",
    "plt.xlabel(f\"Time(JD/$10^6$)\")\n",
    "plt.ylabel(r'$\\Delta\\theta$ Right Ascension(arcsec)')\n",
    "plt.title('Angular Difference in RA (observed - predicted) vs Time')\n",
    "plt.legend()\n",
    "plt.grid()\n",
    "#plt.show()\n",
    "plt.savefig('AngularDifferenceRAvsTime.pdf')"
   ]
  },
  {
   "cell_type": "markdown",
   "metadata": {},
   "source": [
    "<div class=\"alert alert-warning\" role=\"alert\">\n",
    "\n",
    "**EA:** Your observed - predicted differences should be much smaller, on the order of a fraction of an arcsecond.\n",
    "\n",
    "</div>"
   ]
  },
  {
   "cell_type": "code",
   "execution_count": 13,
   "metadata": {},
   "outputs": [],
   "source": [
    "# calculate the angular difference between the observed\n",
    "# and predicted Dec. values in arcseconds\n",
    "ddec = (data['dec'] - dec_array)*3600"
   ]
  },
  {
   "cell_type": "code",
   "execution_count": 14,
   "metadata": {},
   "outputs": [
    {
     "data": {
      "image/png": "[encoded data removed]",
      "text/plain": [
       "<Figure size 800x800 with 1 Axes>"
      ]
     },
     "metadata": {},
     "output_type": "display_data"
    }
   ],
   "source": [
    "# plot the angular difference in Dec. (observed - predicted) vs. time\n",
    "plt.figure(figsize=(8,8))\n",
    "plt.scatter(data['jd'], ddec, marker='o', linestyle='--', label='Dec Residual')\n",
    "plt.xlabel(f\"Time(JD/$10^6$)\")\n",
    "plt.ylabel(r'$\\Delta\\theta$ Declination(arcsec)')\n",
    "plt.title('Angular difference in Dec. (observed - predicted) vs. Time')\n",
    "plt.legend()\n",
    "plt.grid()\n",
    "plt.show()\n",
    "#plt.savefig('AngularDifferenceDECvsTime.pdf')"
   ]
  },
  {
   "cell_type": "markdown",
   "metadata": {},
   "source": [
    "<div class=\"alert alert-warning\" role=\"alert\">\n",
    "\n",
    "**EA:** Similarly, your observed - predicted plots for declination should also be on the order of a fraction of an arcsecond.\n",
    "\n",
    "</div>"
   ]
  },
  {
   "cell_type": "markdown",
   "metadata": {},
   "source": [
    "### Step 3"
   ]
  },
  {
   "cell_type": "markdown",
   "metadata": {},
   "source": [
    "Complete the code template below to calculate the \"parallax factors\". These factors relate the parallax angle to the observed shifts in R.A. and Dec. that are due to the Earth's motion around the Sun. See van Altena's notes for the definition of these factors."
   ]
  },
  {
   "cell_type": "code",
   "execution_count": 15,
   "metadata": {},
   "outputs": [],
   "source": [
    "def get_parallax_factor(tinfo, jds):\n",
    "    \"\"\"\n",
    "    returns the parallax factors in RA and Dec for a given target at a given set of observation times \n",
    "    \n",
    "    `tinfo` is a dictionary that holds information about the target (name, R.A., Dec., etc.)\n",
    "    `jds` is a numpy array that holds the Julian date (or dates!) at which the parallax factors is (are) desired\n",
    "    \"\"\"\n",
    "\n",
    "    # convert jds to an astropy Time object\n",
    "    epoch = Time(jds, format='jd')\n",
    "    \n",
    "    # compute the RA, Dec, and distance to the Sun at each epoch \n",
    "    sun = get_sun(epoch).transform_to('icrs')\n",
    "\n",
    "    # calculate the approximate target position at each epoch\n",
    "    tpos = get_target_pos(tinfo, epoch)\n",
    "\n",
    "    # calculate the parallax factor (relative to the actual parallax) in RA and Dec\n",
    "    F_ra = np.sin((sun.ra - tpos.ra).to(u.rad)) * np.cos(sun.dec)\n",
    "    F_dec = np.sin(sun.dec) * np.cos(tpos.dec) - np.cos(sun.dec) * np.sin(tpos.dec) * np.cos((sun.ra - tpos.ra).to(u.rad))\n",
    "\n",
    "    return F_ra, F_dec"
   ]
  },
  {
   "cell_type": "markdown",
   "metadata": {},
   "source": [
    "<div class=\"alert alert-warning\" role=\"alert\">\n",
    "\n",
    "**EA:** `get_sun` returns a SkyCoord in GCRS (Geocentric Celestial Reference System, centered at Earth's center of mass) coordinate frame, but you transform your sun coordinates to the ICRS (International Celestial Reference System, centered at _Solar System_ center of mass) coordinate frame. These are two very different reference frames and return very different answers. Since we observe from the Earth, we should remain in the GCRS frame.\n",
    "\n",
    "</div>"
   ]
  },
  {
   "cell_type": "markdown",
   "metadata": {},
   "source": [
    "<div class=\"alert alert-warning\" role=\"alert\">\n",
    "\n",
    "**EA:** Your parallax factors are missing the distance to the Sun, $R$, as defined in van Altena's notes. You can acquire this distance using `sun.distance` or `sun.distance.au`.\n",
    "\n",
    "</div>"
   ]
  },
  {
   "cell_type": "markdown",
   "metadata": {},
   "source": [
    "<div class=\"alert alert-warning\" role=\"alert\">\n",
    "\n",
    "**EA:** You don't need to convert the `sun.ra - tpos.ra` in your `np.sin` and `np.cos` to radians, both of those values have units associated with them and `np.sin/np.cos` takes care of any conversions with units!\n",
    "\n",
    "</div>"
   ]
  },
  {
   "cell_type": "code",
   "execution_count": 17,
   "metadata": {},
   "outputs": [
    {
     "data": {
      "image/png": "[encoded data removed]",
      "text/plain": [
       "<Figure size 640x480 with 1 Axes>"
      ]
     },
     "metadata": {},
     "output_type": "display_data"
    }
   ],
   "source": [
    "# test your get_parallax_factor function:\n",
    "# compute the parallax factors for 365 consecutive days\n",
    "start_jd=2488197.5\n",
    "jds = np.arange(start_jd, start_jd + 365)\n",
    "F_ra, F_dec = get_parallax_factor(tinfo, jds)\n",
    "\n",
    "# plot these parallax factors, F_ra vs. F_dec\n",
    "plt.scatter(F_ra, F_dec)\n",
    "plt.grid()\n",
    "plt.show()"
   ]
  },
  {
   "cell_type": "markdown",
   "metadata": {},
   "source": [
    "<div class=\"alert alert-warning\" role=\"alert\">\n",
    "\n",
    "**EA:** While your parallax factors have the correct \"shape\", they are not the correct values.\n",
    "\n",
    "</div>"
   ]
  },
  {
   "cell_type": "markdown",
   "metadata": {},
   "source": [
    "<div class=\"alert alert-warning\" role=\"alert\">\n",
    "\n",
    "**EA:** Don't forget to label your axes!\n",
    "\n",
    "</div>"
   ]
  },
  {
   "cell_type": "markdown",
   "metadata": {},
   "source": [
    "### Step 4"
   ]
  },
  {
   "cell_type": "markdown",
   "metadata": {
    "collapsed": true,
    "jupyter": {
     "outputs_hidden": true
    }
   },
   "source": [
    "Simultaneously fit the data for relative parallax and proper motion in RA and Dec using least-squares techniques. You may find van Altena's notes helpful for setting this up. Recall that for least-squares fitting you will need to express a system of equations in the form, $Y = Xp$. You will find the function templates below helpful in solving for the best-fit parameters.\n",
    "\n",
    "Note: Numpy `matrix` functions do not know how to handle Astropy quantities, so you will have to **pass Numpy the values only**."
   ]
  },
  {
   "cell_type": "code",
   "execution_count": 22,
   "metadata": {},
   "outputs": [],
   "source": [
    "def get_Y(tinfo, data):\n",
    "    \"\"\"\n",
    "    return a numpy matrix with the dependant variables in a single column\n",
    "    \n",
    "    `tinfo` is a dictionary that holds information about the target (name, R.A., Dec., etc.)\n",
    "    `data` is a numpy structured array with `ra`, `dec`, and `jd` fields\n",
    "    \"\"\"\n",
    "    \n",
    "    RA = tinfo['ra'].to(u.deg).value\n",
    "    DEC = tinfo['dec'].to(u.deg).value\n",
    "\n",
    "    # set up the Y matrix\n",
    "    Y = []\n",
    "    for i in range(len(data)):\n",
    "        Y.append([(data['ra'][i] - RA) * np.cos(np.radians(DEC)) * 3600])\n",
    "    \n",
    "    return np.matrix(Y)"
   ]
  },
  {
   "cell_type": "code",
   "execution_count": 23,
   "metadata": {},
   "outputs": [],
   "source": [
    "def get_X(tinfo, jds):\n",
    "    \"\"\"\n",
    "    return a numpy matrix with the independant variables\n",
    "    \n",
    "    `tinfo` is a dictionary that holds information about the target (name, R.A., Dec., etc.)\n",
    "    `jds` is a numpy array that holds the Julian date (or dates!) at which the parallax factors is (are) desired\n",
    "    \"\"\"\n",
    "\n",
    "    # get the parallax factors\n",
    "    F_ra, F_dec = get_parallax_factor(tinfo, jds)\n",
    "\n",
    "    # set up the X matrix\n",
    "    X=[]\n",
    "    dt = (jds - tinfo['epoch'].jd) / 365.25  # time difference in years\n",
    "    for i in range(len(jds)):\n",
    "        X.append([1, dt[i], F_ra[i].value])\n",
    "    return np.matrix(X)"
   ]
  },
  {
   "cell_type": "markdown",
   "metadata": {},
   "source": [
    "<div class=\"alert alert-warning\" role=\"alert\">\n",
    "\n",
    "**EA:** Your X matrix does not contain any terms related to declination, including the declination parallax factors. You also would only be fitting for 3 values instead of the 5 you need.\n",
    "\n",
    "</div>"
   ]
  },
  {
   "cell_type": "code",
   "execution_count": 25,
   "metadata": {},
   "outputs": [],
   "source": [
    "def fit_model(tinfo, data):\n",
    "    \"\"\"\n",
    "    return the best-fit model parameters and uncertainties in numpy matrices\n",
    "    \n",
    "    `tinfo` is a dictionary that holds information about the target (name, R.A., Dec., etc.)\n",
    "    `data` is a numpy structured array with `ra`, `dec`, and `jd` fields\n",
    "    \"\"\"\n",
    "    X = get_X(tinfo, data['jd'])\n",
    "    Y = get_Y(tinfo, data)\n",
    "    XT_X_inv = np.linalg.inv(X.T @ X)\n",
    "    p = XT_X_inv @ X.T @ Y\n",
    "    residuals = Y - X @ p\n",
    "    sigma2 = (residuals.T @ residuals) / (len(Y) - X.shape[1])\n",
    "    perr = np.sqrt(np.diag(XT_X_inv * sigma2.item())).reshape(-1, 1)\n",
    "    \n",
    "    return p, perr"
   ]
  },
  {
   "cell_type": "code",
   "execution_count": 27,
   "metadata": {},
   "outputs": [
    {
     "name": "stdout",
     "output_type": "stream",
     "text": [
      "Best-fit parameters:\n",
      "RA Offset        = -0.460290 ± 0.316594 arcsec\n",
      "Proper Motion RA = 2.518745 ± 0.029172 arcsec/yr\n",
      "Parallax         = 0.144591 ± 0.073892 arcsec\n"
     ]
    }
   ],
   "source": [
    "# find the best-fit parallax and proper motion terms in the least-squares sense\n",
    "p, perr = fit_model(tinfo, data)\n",
    "# Print the results\n",
    "print(\"Best-fit parameters:\")\n",
    "print(f\"RA Offset        = {p[0,0]:.6f} ± {perr[0,0]:.6f} arcsec\")\n",
    "print(f\"Proper Motion RA = {p[1,0]:.6f} ± {perr[1,0]:.6f} arcsec/yr\")\n",
    "print(f\"Parallax         = {p[2,0]:.6f} ± {perr[2,0]:.6f} arcsec\")"
   ]
  },
  {
   "cell_type": "markdown",
   "metadata": {},
   "source": [
    "<div class=\"alert alert-warning\" role=\"alert\">\n",
    "\n",
    "**EA:** And the declination terms?\n",
    "\n",
    "</div>"
   ]
  },
  {
   "cell_type": "markdown",
   "metadata": {},
   "source": [
    "### Step 5"
   ]
  },
  {
   "cell_type": "markdown",
   "metadata": {
    "collapsed": true,
    "jupyter": {
     "outputs_hidden": true
    }
   },
   "source": [
    "Plot the data (R.A. vs. Dec.) with the best fit model."
   ]
  },
  {
   "cell_type": "code",
   "execution_count": 28,
   "metadata": {},
   "outputs": [],
   "source": [
    "# you will find the function template below to be helpful\n",
    "def get_model_pos(tinfo, p, jds):\n",
    "    \"\"\"\n",
    "    return the model R.A. and model Dec. values for the given model at specified times\n",
    "    \n",
    "    `tinfo` is a dictionary that holds information about the target (name, R.A., Dec., etc.)\n",
    "    `p` is a numpy matrix that holds the model parameters in a column matrix\n",
    "    `jds` is a numpy array that holds the Julian date (or dates!) at which the model values are desired\n",
    "    \"\"\"\n",
    "    \n",
    "    RA = tinfo['ra'].to(u.deg).value\n",
    "    DEC = tinfo['dec'].to(u.deg).value\n",
    "\n",
    "        # Time difference from reference epoch in years\n",
    "    dt = (jds - tinfo['epoch'].jd) / 365.25\n",
    "\n",
    "    # Get parallax factors\n",
    "    F_ra, F_dec = get_parallax_factor(tinfo, jds)\n",
    "\n",
    "    # Compute model RA and Dec in degrees\n",
    "    modelra = RA + (p[0,0] + p[1,0]*dt + p[2,0]*F_ra) / (3600 * np.cos(np.radians(DEC)))\n",
    "    modeldec = DEC + (p[2,0] * F_dec) / 3600\n",
    "\n",
    "    return modelra, modeldec"
   ]
  },
  {
   "cell_type": "markdown",
   "metadata": {},
   "source": [
    "<div class=\"alert alert-warning\" role=\"alert\">\n",
    "\n",
    "**EA:** You did not fit for any parameters that help model the motion in declination.\n",
    "\n",
    "</div>"
   ]
  },
  {
   "cell_type": "markdown",
   "metadata": {},
   "source": [
    "<div class=\"alert alert-warning\" role=\"alert\">\n",
    "\n",
    "**EA:** There is an easier way to obtain your model RA and model Dec without recomputing your parallax factors and using the whole model equation (hint: recall what $Y=Xp$ does).\n",
    "\n",
    "</div>"
   ]
  },
  {
   "cell_type": "code",
   "execution_count": 40,
   "metadata": {},
   "outputs": [
    {
     "data": {
      "text/latex": [
       "$[-6.7817914,~-6.7817914,~-6.7817914,~\\dots,~-6.7818054,~-6.7818053,~-6.7818053] \\; \\mathrm{}$"
      ],
      "text/plain": [
       "<Quantity [-6.78179136, -6.78179139, -6.78179142, -6.78179145, -6.78179148,\n",
       "           -6.78179151, -6.78179154, -6.78179157, -6.7817916 , -6.78179163,\n",
       "           -6.78179166, -6.78179169, -6.78179172, -6.78179175, -6.78179178,\n",
       "           -6.78179181, -6.78179185, -6.78179188, -6.78179191, -6.78179194,\n",
       "           -6.78179197, -6.781792  , -6.78179203, -6.78179206, -6.78179209,\n",
       "           -6.78179212, -6.78179215, -6.78179219, -6.78179222, -6.78179225,\n",
       "           -6.78179228, -6.78179231, -6.78179234, -6.78179237, -6.7817924 ,\n",
       "           -6.78179244, -6.78179247, -6.7817925 , -6.78179253, -6.78179256,\n",
       "           -6.78179259, -6.78179263, -6.78179266, -6.78179269, -6.78179272,\n",
       "           -6.78179275, -6.78179279, -6.78179282, -6.78179285, -6.78179288,\n",
       "           -6.78179291, -6.78179295, -6.78179298, -6.78179301, -6.78179304,\n",
       "           -6.78179308, -6.78179311, -6.78179314, -6.78179317, -6.7817932 ,\n",
       "           -6.78179324, -6.78179327, -6.7817933 , -6.78179334, -6.78179337,\n",
       "           -6.7817934 , -6.78179343, -6.78179347, -6.7817935 , -6.78179353,\n",
       "           -6.78179357, -6.7817936 , -6.78179363, -6.78179366, -6.7817937 ,\n",
       "           -6.78179373, -6.78179376, -6.7817938 , -6.78179383, -6.78179386,\n",
       "           -6.7817939 , -6.78179393, -6.78179397, -6.781794  , -6.78179403,\n",
       "           -6.78179407, -6.7817941 , -6.78179413, -6.78179417, -6.7817942 ,\n",
       "           -6.78179424, -6.78179427, -6.7817943 , -6.78179434, -6.78179437,\n",
       "           -6.78179441, -6.78179444, -6.78179448, -6.78179451, -6.78179454,\n",
       "           -6.78179458, -6.78179461, -6.78179465, -6.78179468, -6.78179472,\n",
       "           -6.78179475, -6.78179479, -6.78179482, -6.78179486, -6.78179489,\n",
       "           -6.78179493, -6.78179496, -6.781795  , -6.78179503, -6.78179507,\n",
       "           -6.7817951 , -6.78179514, -6.78179517, -6.78179521, -6.78179525,\n",
       "           -6.78179528, -6.78179532, -6.78179535, -6.78179539, -6.78179542,\n",
       "           -6.78179546, -6.78179549, -6.78179553, -6.78179557, -6.7817956 ,\n",
       "           -6.78179564, -6.78179567, -6.78179571, -6.78179575, -6.78179578,\n",
       "           -6.78179582, -6.78179585, -6.78179589, -6.78179593, -6.78179596,\n",
       "           -6.781796  , -6.78179604, -6.78179607, -6.78179611, -6.78179614,\n",
       "           -6.78179618, -6.78179622, -6.78179625, -6.78179629, -6.78179633,\n",
       "           -6.78179636, -6.7817964 , -6.78179644, -6.78179647, -6.78179651,\n",
       "           -6.78179655, -6.78179658, -6.78179662, -6.78179666, -6.78179669,\n",
       "           -6.78179673, -6.78179677, -6.78179681, -6.78179684, -6.78179688,\n",
       "           -6.78179692, -6.78179695, -6.78179699, -6.78179703, -6.78179707,\n",
       "           -6.7817971 , -6.78179714, -6.78179718, -6.78179721, -6.78179725,\n",
       "           -6.78179729, -6.78179733, -6.78179736, -6.7817974 , -6.78179744,\n",
       "           -6.78179748, -6.78179752, -6.78179755, -6.78179759, -6.78179763,\n",
       "           -6.78179767, -6.78179771, -6.78179774, -6.78179778, -6.78179782,\n",
       "           -6.78179786, -6.7817979 , -6.78179793, -6.78179797, -6.78179801,\n",
       "           -6.78179805, -6.78179809, -6.78179813, -6.78179816, -6.7817982 ,\n",
       "           -6.78179824, -6.78179828, -6.78179832, -6.78179836, -6.7817984 ,\n",
       "           -6.78179844, -6.78179847, -6.78179851, -6.78179855, -6.78179859,\n",
       "           -6.78179863, -6.78179867, -6.78179871, -6.78179875, -6.78179879,\n",
       "           -6.78179883, -6.78179887, -6.78179891, -6.78179895, -6.78179899,\n",
       "           -6.78179903, -6.78179907, -6.78179911, -6.78179915, -6.78179919,\n",
       "           -6.78179922, -6.78179926, -6.78179931, -6.78179935, -6.78179939,\n",
       "           -6.78179943, -6.78179947, -6.78179951, -6.78179955, -6.78179959,\n",
       "           -6.78179963, -6.78179967, -6.78179971, -6.78179975, -6.78179979,\n",
       "           -6.78179983, -6.78179987, -6.78179991, -6.78179995, -6.78179999,\n",
       "           -6.78180003, -6.78180007, -6.78180011, -6.78180015, -6.78180019,\n",
       "           -6.78180023, -6.78180027, -6.78180032, -6.78180036, -6.7818004 ,\n",
       "           -6.78180044, -6.78180048, -6.78180052, -6.78180056, -6.7818006 ,\n",
       "           -6.78180064, -6.78180068, -6.78180072, -6.78180076, -6.7818008 ,\n",
       "           -6.78180085, -6.78180089, -6.78180093, -6.78180097, -6.78180101,\n",
       "           -6.78180105, -6.78180109, -6.78180113, -6.78180117, -6.78180121,\n",
       "           -6.78180125, -6.78180129, -6.78180133, -6.78180138, -6.78180142,\n",
       "           -6.78180146, -6.7818015 , -6.78180154, -6.78180158, -6.78180162,\n",
       "           -6.78180166, -6.7818017 , -6.78180174, -6.78180178, -6.78180182,\n",
       "           -6.78180186, -6.7818019 , -6.78180194, -6.78180199, -6.78180203,\n",
       "           -6.78180207, -6.78180211, -6.78180215, -6.78180219, -6.78180223,\n",
       "           -6.78180227, -6.78180231, -6.78180235, -6.78180239, -6.78180243,\n",
       "           -6.78180247, -6.78180251, -6.78180255, -6.78180259, -6.78180264,\n",
       "           -6.78180268, -6.78180272, -6.78180276, -6.7818028 , -6.78180284,\n",
       "           -6.78180288, -6.78180292, -6.78180296, -6.781803  , -6.78180304,\n",
       "           -6.78180308, -6.78180313, -6.78180317, -6.78180321, -6.78180325,\n",
       "           -6.78180329, -6.78180333, -6.78180337, -6.78180341, -6.78180345,\n",
       "           -6.78180349, -6.78180354, -6.78180358, -6.78180362, -6.78180366,\n",
       "           -6.7818037 , -6.78180374, -6.78180378, -6.78180382, -6.78180387,\n",
       "           -6.78180391, -6.78180395, -6.78180399, -6.78180403, -6.78180407,\n",
       "           -6.78180411, -6.78180416, -6.7818042 , -6.78180424, -6.78180428,\n",
       "           -6.78180432, -6.78180436, -6.7818044 , -6.78180445, -6.78180449,\n",
       "           -6.78180453, -6.78180457, -6.78180461, -6.78180466, -6.7818047 ,\n",
       "           -6.78180474, -6.78180478, -6.78180482, -6.78180486, -6.78180491,\n",
       "           -6.78180495, -6.78180499, -6.78180503, -6.78180507, -6.78180512,\n",
       "           -6.78180516, -6.7818052 , -6.78180524, -6.78180528, -6.78180533,\n",
       "           -6.78180537, -6.78180541, -6.78180545, -6.78180549, -6.78180554,\n",
       "           -6.78180558, -6.78180562, -6.78180566, -6.7818057 , -6.78180575,\n",
       "           -6.78180579, -6.78180583, -6.78180587, -6.78180591, -6.78180595,\n",
       "           -6.781806  , -6.78180604, -6.78180608, -6.78180612, -6.78180616,\n",
       "           -6.78180621, -6.78180625, -6.78180629, -6.78180633, -6.78180637,\n",
       "           -6.78180641, -6.78180646, -6.7818065 , -6.78180654, -6.78180658,\n",
       "           -6.78180662, -6.78180666, -6.7818067 , -6.78180675, -6.78180679,\n",
       "           -6.78180683, -6.78180687, -6.78180691, -6.78180695, -6.78180699,\n",
       "           -6.78180704, -6.78180708, -6.78180712, -6.78180716, -6.7818072 ,\n",
       "           -6.78180724, -6.78180728, -6.78180733, -6.78180737, -6.78180741,\n",
       "           -6.78180745, -6.78180749, -6.78180753, -6.78180757, -6.78180761,\n",
       "           -6.78180765, -6.7818077 , -6.78180774, -6.78180778, -6.78180782,\n",
       "           -6.78180786, -6.7818079 , -6.78180794, -6.78180798, -6.78180802,\n",
       "           -6.78180806, -6.7818081 , -6.78180815, -6.78180819, -6.78180823,\n",
       "           -6.78180827, -6.78180831, -6.78180835, -6.78180839, -6.78180843,\n",
       "           -6.78180847, -6.78180851, -6.78180855, -6.78180859, -6.78180863,\n",
       "           -6.78180867, -6.78180872, -6.78180876, -6.7818088 , -6.78180884,\n",
       "           -6.78180888, -6.78180892, -6.78180896, -6.781809  , -6.78180904,\n",
       "           -6.78180908, -6.78180912, -6.78180916, -6.7818092 , -6.78180924,\n",
       "           -6.78180928, -6.78180932, -6.78180936, -6.7818094 , -6.78180944,\n",
       "           -6.78180948, -6.78180952, -6.78180956, -6.7818096 , -6.78180964,\n",
       "           -6.78180968, -6.78180972, -6.78180976, -6.7818098 , -6.78180984,\n",
       "           -6.78180988, -6.78180992, -6.78180996, -6.78181   , -6.78181004,\n",
       "           -6.78181008, -6.78181012, -6.78181016, -6.7818102 , -6.78181023,\n",
       "           -6.78181027, -6.78181031, -6.78181035, -6.78181039, -6.78181043,\n",
       "           -6.78181047, -6.78181051, -6.78181055, -6.78181058, -6.78181062,\n",
       "           -6.78181066, -6.7818107 , -6.78181074, -6.78181078, -6.78181081,\n",
       "           -6.78181085, -6.78181089, -6.78181093, -6.78181097, -6.781811  ,\n",
       "           -6.78181104, -6.78181108, -6.78181112, -6.78181115, -6.78181119,\n",
       "           -6.78181123, -6.78181126, -6.7818113 , -6.78181134, -6.78181138,\n",
       "           -6.78181141, -6.78181145, -6.78181148, -6.78181152, -6.78181156,\n",
       "           -6.78181159, -6.78181163, -6.78181167, -6.7818117 , -6.78181174,\n",
       "           -6.78181177, -6.78181181, -6.78181184, -6.78181188, -6.78181192,\n",
       "           -6.78181195, -6.78181199, -6.78181202, -6.78181206, -6.78181209,\n",
       "           -6.78181213, -6.78181216, -6.7818122 , -6.78181223, -6.78181226,\n",
       "           -6.7818123 , -6.78181233, -6.78181237, -6.7818124 , -6.78181244,\n",
       "           -6.78181247, -6.7818125 , -6.78181254, -6.78181257, -6.78181261,\n",
       "           -6.78181264, -6.78181267, -6.78181271, -6.78181274, -6.78181277,\n",
       "           -6.78181281, -6.78181284, -6.78181287, -6.7818129 , -6.78181294,\n",
       "           -6.78181297, -6.781813  , -6.78181304, -6.78181307, -6.7818131 ,\n",
       "           -6.78181313, -6.78181316, -6.7818132 , -6.78181323, -6.78181326,\n",
       "           -6.78181329, -6.78181332, -6.78181335, -6.78181339, -6.78181342,\n",
       "           -6.78181345, -6.78181348, -6.78181351, -6.78181354, -6.78181357,\n",
       "           -6.7818136 , -6.78181363, -6.78181366, -6.78181369, -6.78181372,\n",
       "           -6.78181376, -6.78181379, -6.78181382, -6.78181384, -6.78181387,\n",
       "           -6.7818139 , -6.78181393, -6.78181396, -6.78181399, -6.78181402,\n",
       "           -6.78181405, -6.78181408, -6.78181411, -6.78181414, -6.78181416,\n",
       "           -6.78181419, -6.78181422, -6.78181425, -6.78181428, -6.7818143 ,\n",
       "           -6.78181433, -6.78181436, -6.78181439, -6.78181441, -6.78181444,\n",
       "           -6.78181447, -6.78181449, -6.78181452, -6.78181455, -6.78181457,\n",
       "           -6.7818146 , -6.78181462, -6.78181465, -6.78181467, -6.7818147 ,\n",
       "           -6.78181473, -6.78181475, -6.78181477, -6.7818148 , -6.78181482,\n",
       "           -6.78181485, -6.78181487, -6.78181489, -6.78181492, -6.78181494,\n",
       "           -6.78181496, -6.78181499, -6.78181501, -6.78181503, -6.78181506,\n",
       "           -6.78181508, -6.7818151 , -6.78181512, -6.78181514, -6.78181516,\n",
       "           -6.78181519, -6.78181521, -6.78181523, -6.78181525, -6.78181527,\n",
       "           -6.78181529, -6.78181531, -6.78181533, -6.78181535, -6.78181537,\n",
       "           -6.78181538, -6.7818154 , -6.78181542, -6.78181544, -6.78181546,\n",
       "           -6.78181547, -6.78181549, -6.78181551, -6.78181553, -6.78181554,\n",
       "           -6.78181556, -6.78181558, -6.78181559, -6.78181561, -6.78181562,\n",
       "           -6.78181564, -6.78181565, -6.78181567, -6.78181568, -6.7818157 ,\n",
       "           -6.78181571, -6.78181573, -6.78181574, -6.78181575, -6.78181577,\n",
       "           -6.78181578, -6.78181579, -6.78181581, -6.78181582, -6.78181583,\n",
       "           -6.78181584, -6.78181585, -6.78181586, -6.78181587, -6.78181589,\n",
       "           -6.7818159 , -6.78181591, -6.78181592, -6.78181593, -6.78181594,\n",
       "           -6.78181594, -6.78181595, -6.78181596, -6.78181597, -6.78181598,\n",
       "           -6.78181599, -6.78181599, -6.781816  , -6.78181601, -6.78181601,\n",
       "           -6.78181602, -6.78181603, -6.78181603, -6.78181604, -6.78181604,\n",
       "           -6.78181605, -6.78181605, -6.78181606, -6.78181606, -6.78181606,\n",
       "           -6.78181607, -6.78181607, -6.78181607, -6.78181608, -6.78181608,\n",
       "           -6.78181608, -6.78181608, -6.78181608, -6.78181609, -6.78181609,\n",
       "           -6.78181609, -6.78181609, -6.78181609, -6.78181609, -6.78181609,\n",
       "           -6.78181608, -6.78181608, -6.78181608, -6.78181608, -6.78181608,\n",
       "           -6.78181607, -6.78181607, -6.78181607, -6.78181607, -6.78181606,\n",
       "           -6.78181606, -6.78181605, -6.78181605, -6.78181604, -6.78181604,\n",
       "           -6.78181603, -6.78181602, -6.78181602, -6.78181601, -6.781816  ,\n",
       "           -6.781816  , -6.78181599, -6.78181598, -6.78181597, -6.78181596,\n",
       "           -6.78181595, -6.78181594, -6.78181593, -6.78181592, -6.78181591,\n",
       "           -6.7818159 , -6.78181589, -6.78181588, -6.78181587, -6.78181585,\n",
       "           -6.78181584, -6.78181583, -6.78181582, -6.7818158 , -6.78181579,\n",
       "           -6.78181577, -6.78181576, -6.78181574, -6.78181573, -6.78181571,\n",
       "           -6.7818157 , -6.78181568, -6.78181566, -6.78181565, -6.78181563,\n",
       "           -6.78181561, -6.78181559, -6.78181557, -6.78181555, -6.78181554,\n",
       "           -6.78181552, -6.7818155 , -6.78181548, -6.78181546, -6.78181543,\n",
       "           -6.78181541, -6.78181539, -6.78181537, -6.78181535, -6.78181532,\n",
       "           -6.7818153 , -6.78181528, -6.78181525, -6.78181523, -6.7818152 ,\n",
       "           -6.78181518, -6.78181515, -6.78181513, -6.7818151 , -6.78181508,\n",
       "           -6.78181505, -6.78181502, -6.781815  , -6.78181497, -6.78181494,\n",
       "           -6.78181491, -6.78181488, -6.78181485, -6.78181482, -6.78181479,\n",
       "           -6.78181476, -6.78181473, -6.7818147 , -6.78181467, -6.78181464,\n",
       "           -6.78181461, -6.78181458, -6.78181454, -6.78181451, -6.78181448,\n",
       "           -6.78181444, -6.78181441, -6.78181437, -6.78181434, -6.7818143 ,\n",
       "           -6.78181427, -6.78181423, -6.7818142 , -6.78181416, -6.78181412,\n",
       "           -6.78181409, -6.78181405, -6.78181401, -6.78181397, -6.78181393,\n",
       "           -6.78181389, -6.78181385, -6.78181381, -6.78181377, -6.78181373,\n",
       "           -6.78181369, -6.78181365, -6.78181361, -6.78181357, -6.78181353,\n",
       "           -6.78181348, -6.78181344, -6.7818134 , -6.78181336, -6.78181331,\n",
       "           -6.78181327, -6.78181322, -6.78181318, -6.78181313, -6.78181309,\n",
       "           -6.78181304, -6.781813  , -6.78181295, -6.7818129 , -6.78181286,\n",
       "           -6.78181281, -6.78181276, -6.78181272, -6.78181267, -6.78181262,\n",
       "           -6.78181257, -6.78181252, -6.78181247, -6.78181242, -6.78181237,\n",
       "           -6.78181232, -6.78181227, -6.78181222, -6.78181217, -6.78181212,\n",
       "           -6.78181207, -6.78181202, -6.78181197, -6.78181192, -6.78181186,\n",
       "           -6.78181181, -6.78181176, -6.78181171, -6.78181165, -6.7818116 ,\n",
       "           -6.78181155, -6.78181149, -6.78181144, -6.78181138, -6.78181133,\n",
       "           -6.78181128, -6.78181122, -6.78181117, -6.78181111, -6.78181106,\n",
       "           -6.781811  , -6.78181094, -6.78181089, -6.78181083, -6.78181078,\n",
       "           -6.78181072, -6.78181066, -6.78181061, -6.78181055, -6.78181049,\n",
       "           -6.78181044, -6.78181038, -6.78181032, -6.78181026, -6.78181021,\n",
       "           -6.78181015, -6.78181009, -6.78181003, -6.78180997, -6.78180992,\n",
       "           -6.78180986, -6.7818098 , -6.78180974, -6.78180968, -6.78180962,\n",
       "           -6.78180956, -6.7818095 , -6.78180944, -6.78180938, -6.78180933,\n",
       "           -6.78180927, -6.78180921, -6.78180915, -6.78180909, -6.78180903,\n",
       "           -6.78180896, -6.7818089 , -6.78180884, -6.78180878, -6.78180872,\n",
       "           -6.78180866, -6.7818086 , -6.78180854, -6.78180848, -6.78180842,\n",
       "           -6.78180836, -6.78180829, -6.78180823, -6.78180817, -6.78180811,\n",
       "           -6.78180805, -6.78180799, -6.78180792, -6.78180786, -6.7818078 ,\n",
       "           -6.78180774, -6.78180767, -6.78180761, -6.78180755, -6.78180749,\n",
       "           -6.78180742, -6.78180736, -6.7818073 , -6.78180724, -6.78180717,\n",
       "           -6.78180711, -6.78180705, -6.78180698, -6.78180692, -6.78180686,\n",
       "           -6.78180679, -6.78180673, -6.78180667, -6.7818066 , -6.78180654,\n",
       "           -6.78180648, -6.78180641, -6.78180635, -6.78180629, -6.78180622,\n",
       "           -6.78180616, -6.78180609, -6.78180603, -6.78180597, -6.7818059 ,\n",
       "           -6.78180584, -6.78180577, -6.78180571, -6.78180565, -6.78180558,\n",
       "           -6.78180552, -6.78180545, -6.78180539, -6.78180533, -6.78180526]>"
      ]
     },
     "execution_count": 40,
     "metadata": {},
     "output_type": "execute_result"
    }
   ],
   "source": [
    "model_dec"
   ]
  },
  {
   "cell_type": "code",
   "execution_count": 29,
   "metadata": {},
   "outputs": [
    {
     "data": {
      "image/png": "[encoded data removed]",
      "text/plain": [
       "<Figure size 800x800 with 1 Axes>"
      ]
     },
     "metadata": {},
     "output_type": "display_data"
    }
   ],
   "source": [
    "# calculate the predicted R.A. and Dec. values for\n",
    "# 1000 epochs between the first and last observation\n",
    "jds_model = np.linspace(data['jd'].min(), data['jd'].max(), 1000)\n",
    "model_ra, model_dec = get_model_pos(tinfo, p, jds_model)\n",
    "\n",
    "# plot the data with the best-fit model\n",
    "plt.figure(figsize=(8,8))\n",
    "plt.scatter(data['jd'], data['ra'], label='Observed RA')\n",
    "plt.plot(jds_model, model_ra, label='Model RA', color='orange')\n",
    "\n",
    "plt.xlabel(f\"Time(JD/$10^6$)\")\n",
    "plt.ylabel('Right Ascension')\n",
    "plt.title('Observed RA Plotted Above the Model RA over Time')\n",
    "plt.grid()\n",
    "plt.legend()\n",
    "#plt.show()\n",
    "plt.savefig('ObservedNModel.pdf')\n"
   ]
  },
  {
   "cell_type": "markdown",
   "metadata": {},
   "source": [
    "<div class=\"alert alert-warning\" role=\"alert\">\n",
    "\n",
    "**EA:** You have plotted RA vs time only, but you were asked to plot RA vs Dec.\n",
    "\n",
    "</div>"
   ]
  },
  {
   "cell_type": "markdown",
   "metadata": {
    "collapsed": true,
    "jupyter": {
     "outputs_hidden": true
    }
   },
   "source": [
    "### Step 6"
   ]
  },
  {
   "cell_type": "markdown",
   "metadata": {
    "collapsed": true,
    "jupyter": {
     "outputs_hidden": true
    }
   },
   "source": [
    "Convert the best-fit parallax into a distance measurement (in parsecs). "
   ]
  },
  {
   "cell_type": "code",
   "execution_count": 30,
   "metadata": {},
   "outputs": [
    {
     "name": "stdout",
     "output_type": "stream",
     "text": [
      "Distance = 6.9 parsecs\n"
     ]
    }
   ],
   "source": [
    "parallax_arcsec = p[2, 0]\n",
    "distance_pc = 1 / parallax_arcsec\n",
    "\n",
    "print(f\"Distance = {distance_pc:.1f} parsecs\")"
   ]
  },
  {
   "cell_type": "markdown",
   "metadata": {},
   "source": [
    "<div class=\"alert alert-warning\" role=\"alert\">\n",
    "\n",
    "**EA:** Uncertainty in the distance?\n",
    "\n",
    "</div>"
   ]
  },
  {
   "cell_type": "markdown",
   "metadata": {
    "collapsed": true,
    "jupyter": {
     "outputs_hidden": true
    }
   },
   "source": [
    "### Step 7"
   ]
  },
  {
   "cell_type": "markdown",
   "metadata": {},
   "source": [
    "Present your results in an ApJ style paper that you write using $\\LaTeX$. Use [Overleaf](https://www.overleaf.com/) and the [AASTeX package](https://journals.aas.org/aastex-package-for-manuscript-preparation/) (a template is [available on Overleaf](https://www.overleaf.com/latex/templates/aastex-template-for-submissions-to-aas-journals-apj-aj-apjs-apjl-psj-rnaas/vwyggrqvhcgz)) to prepare your paper. You must include figures and citations and properly reference these in the main text.\n",
    "\n",
    "The paper should demonstrate your understanding of parallax, how measurements can be made by the least-squares fitting of models to data, and the limitations in accuracy/precision of the best-fit models due to uncertainties in the data and assumptions of the model. Sections of the paper should include:\n",
    "\n",
    "   * *Abstract*: a concise statement of the paper's objective, key methods, main results, and impact.\n",
    "   * *Introduction*: provide background information on the material covered in the paper. This section typically begins with motivation for the current work (e.g. \"it is important to know X because Y, but it is hard to know X because...\"). Introductions should also give the reader a guide of what is to come in later sections.\n",
    "   * *Data*: explain where the data used in the paper come from and specifically point out anything about the data that may affect the precision or accuracy of the results.\n",
    "   * *Analysis*: this is where you take the available data, apply the techniques discussed in the introduction, and produce new measurements. Explain how you get from the data to the measurements.\n",
    "   * *Discussion/Conclusions*: what are the implications of the Analysis? Summary of what has been learned. What are the limitations of the results? What could be done to improve the results?\n",
    "\n",
    "\n",
    "Additionally, the paper should have a title, list the authors who contributed, and provide references. "
   ]
  },
  {
   "cell_type": "markdown",
   "metadata": {},
   "source": [
    "<div class=\"alert alert-warning\" role=\"alert\">\n",
    "\n",
    "**Notebook**\n",
    "<ul>\n",
    "<li> Loading Data 5/5\n",
    "<li> Proper motion only model 4/5\n",
    "<li> Computation of parallax factors 8/10\n",
    "<li> Least-squares fitting 11/15\n",
    "<li> Plotting of models and data 7/10\n",
    "<li> Distance measurement 3/5\n",
    "</ul>\n",
    "\n",
    "**Report**\n",
    "<ul>\n",
    "<li> Title, Abstract, Latex 12/15\n",
    "<li> Introduction 8/10\n",
    "<li> Data 3/5\n",
    "<li> Analysis 11/15\n",
    "<li> Conclusions 3/5\n",
    "</ul>\n",
    "\n",
    "\n",
    "</div>\n"
   ]
  },
  {
   "cell_type": "code",
   "execution_count": 56,
   "metadata": {},
   "outputs": [
    {
     "data": {
      "text/plain": [
       "75"
      ]
     },
     "execution_count": 56,
     "metadata": {},
     "output_type": "execute_result"
    }
   ],
   "source": [
    "5+4+8+11+7+3+12+8+3+11+3"
   ]
  },
  {
   "cell_type": "markdown",
   "metadata": {},
   "source": [
    "## All Done?\n",
    "\n",
    "Submit this notebook and the PDF of your report using `git`. "
   ]
  }
 ],
 "metadata": {
  "anaconda-cloud": {},
  "kernelspec": {
   "display_name": "Python 3 (ipykernel)",
   "language": "python",
   "name": "python3"
  },
  "language_info": {
   "codemirror_mode": {
    "name": "ipython",
    "version": 3
   },
   "file_extension": ".py",
   "mimetype": "text/x-python",
   "name": "python",
   "nbconvert_exporter": "python",
   "pygments_lexer": "ipython3",
   "version": "3.11.9"
  },
  "nbpresent": {
   "slides": {
    "12f5f6c8-8528-4174-a910-b91bb6640278": {
     "id": "12f5f6c8-8528-4174-a910-b91bb6640278",
     "prev": "a1d2d086-949f-466e-9370-d713abc7429e",
     "regions": {
      "1b91e01c-615e-40f9-a283-519b2507bfd2": {
       "attrs": {
        "height": 0.8,
        "width": 0.8,
        "x": 0.1,
        "y": 0.1
       },
       "content": {
        "cell": "a9234165-4922-4af3-a018-55e1598d6ca2",
        "part": "whole"
       },
       "id": "1b91e01c-615e-40f9-a283-519b2507bfd2"
      }
     }
    },
    "4d26add7-8313-4444-9c2e-7c0d2c81e3f6": {
     "id": "4d26add7-8313-4444-9c2e-7c0d2c81e3f6",
     "prev": "12f5f6c8-8528-4174-a910-b91bb6640278",
     "regions": {
      "fe3c1e14-a853-4440-89ae-eaed4cd542f9": {
       "attrs": {
        "height": 0.8,
        "width": 0.8,
        "x": 0.1,
        "y": 0.1
       },
       "content": {
        "cell": "42de30f3-73f2-420b-8c22-a6b8a031520c",
        "part": "whole"
       },
       "id": "fe3c1e14-a853-4440-89ae-eaed4cd542f9"
      }
     }
    },
    "9164ac0c-bb75-46bf-9ac1-cd5778ebb92a": {
     "id": "9164ac0c-bb75-46bf-9ac1-cd5778ebb92a",
     "layout": "grid",
     "prev": "ca0f1a0c-9dd7-4275-ac90-338baf99c857",
     "regions": {
      "666a668c-5404-41ba-815c-b93fc790c73e": {
       "attrs": {
        "height": 0.8333333333333334,
        "pad": 0.01,
        "treemap:weight": 1,
        "width": 0.5,
        "x": 0.5,
        "y": 0.16666666666666666
       },
       "id": "666a668c-5404-41ba-815c-b93fc790c73e"
      },
      "9229f1ad-7464-4340-9c33-73df2142c13d": {
       "attrs": {
        "height": 0.16650757286496118,
        "pad": 0.01,
        "treemap:weight": 1,
        "width": 1,
        "x": 0,
        "y": 0
       },
       "height": 0.2,
       "id": "9229f1ad-7464-4340-9c33-73df2142c13d"
      },
      "b26719d2-3534-4acc-bba0-d51764042987": {
       "attrs": {
        "height": 0.8333333333333334,
        "pad": 0.01,
        "treemap:weight": 1,
        "width": 0.5,
        "x": 0,
        "y": 0.16666666666666666
       },
       "content": {
        "cell": "35f7ea6f-f818-44ef-a1a2-0dbbda08e884",
        "part": "source"
       },
       "id": "b26719d2-3534-4acc-bba0-d51764042987"
      }
     }
    },
    "a1d2d086-949f-466e-9370-d713abc7429e": {
     "id": "a1d2d086-949f-466e-9370-d713abc7429e",
     "prev": "9164ac0c-bb75-46bf-9ac1-cd5778ebb92a",
     "regions": {
      "1e530fee-955a-433a-a424-e59815681c6e": {
       "attrs": {
        "height": 0.8,
        "width": 0.8,
        "x": 0.1,
        "y": 0.1
       },
       "content": {
        "cell": "51c73370-0c78-4f69-a731-fa0ed0b6440c",
        "part": "whole"
       },
       "id": "1e530fee-955a-433a-a424-e59815681c6e"
      }
     }
    },
    "ca0f1a0c-9dd7-4275-ac90-338baf99c857": {
     "id": "ca0f1a0c-9dd7-4275-ac90-338baf99c857",
     "prev": null,
     "regions": {}
    }
   },
   "themes": {}
  }
 },
 "nbformat": 4,
 "nbformat_minor": 4
}
